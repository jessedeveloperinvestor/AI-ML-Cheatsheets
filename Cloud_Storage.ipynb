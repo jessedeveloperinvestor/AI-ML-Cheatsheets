{
  "nbformat": 4,
  "nbformat_minor": 0,
  "metadata": {
    "colab": {
      "provenance": [],
      "include_colab_link": true
    },
    "kernelspec": {
      "name": "python3",
      "display_name": "Python 3"
    },
    "language_info": {
      "name": "python"
    }
  },
  "cells": [
    {
      "cell_type": "markdown",
      "metadata": {
        "id": "view-in-github",
        "colab_type": "text"
      },
      "source": [
        "<a href=\"https://colab.research.google.com/github/jessedeveloperinvestor/AI-ML-Cheatsheets/blob/main/Cloud_Storage.ipynb\" target=\"_parent\"><img src=\"https://colab.research.google.com/assets/colab-badge.svg\" alt=\"Open In Colab\"/></a>"
      ]
    },
    {
      "cell_type": "markdown",
      "source": [
        "# ☁️ Cloud Computing com Google Colab + GCP\n",
        "\n",
        "### 🔍 Coleta de Citações via API + Armazenamento no Cloud Storage + Ingestão no BigQuery\n",
        "\n",
        "**Autor:** Fernando Nakamuta  \n",
        "**Projeto:** poli-usp-pro-cloud-computing  \n",
        "**Dataset:** `poliusp_demo.quotes`  \n",
        "**Serviços utilizados:** `requests`, `Cloud Storage`, `BigQuery`"
      ],
      "metadata": {
        "id": "grXywK2Dh4gR"
      }
    },
    {
      "cell_type": "markdown",
      "source": [
        "# Utilizando Cloud Storage\n"
      ],
      "metadata": {
        "id": "9mDFXDAsUR3e"
      }
    },
    {
      "cell_type": "code",
      "execution_count": null,
      "metadata": {
        "id": "DkjhjceiT_Sl"
      },
      "outputs": [],
      "source": [
        "# Imports\n",
        "from google.colab import auth\n",
        "from google.cloud import storage"
      ]
    },
    {
      "cell_type": "markdown",
      "source": [
        "#### Autenticação no Google Cloud"
      ],
      "metadata": {
        "id": "DNxS4pO2WhKp"
      }
    },
    {
      "cell_type": "code",
      "source": [
        "auth.authenticate_user()"
      ],
      "metadata": {
        "id": "7A0yKSpaWeiA"
      },
      "execution_count": null,
      "outputs": []
    },
    {
      "cell_type": "code",
      "source": [
        "project_id = \"poli-usp-pro-cloud-computing\"\n",
        "client = storage.Client(project=project_id)"
      ],
      "metadata": {
        "id": "ofx-NkWlWmNp"
      },
      "execution_count": null,
      "outputs": []
    },
    {
      "cell_type": "markdown",
      "source": [
        "#### Fazendo download de arquivos de um bucket"
      ],
      "metadata": {
        "id": "U4LWYqT4WCtq"
      }
    },
    {
      "cell_type": "code",
      "source": [
        "bucket_1 = client.get_bucket('poliusp-demo')\n",
        "blob = bucket_1.blob('iris.csv')\n",
        "blob.download_to_filename('iris_local.csv')"
      ],
      "metadata": {
        "id": "s29U5aiKUuJx"
      },
      "execution_count": null,
      "outputs": []
    },
    {
      "cell_type": "code",
      "source": [
        "bucket_2 = client.get_bucket('poliusp-pro-exemplo-aula')\n",
        "blob = bucket_2.blob('iris.csv')\n",
        "blob.upload_from_filename(\"iris_local.csv\")"
      ],
      "metadata": {
        "id": "8FaVPIwasMi9"
      },
      "execution_count": null,
      "outputs": []
    },
    {
      "cell_type": "markdown",
      "source": [
        "#### Fazendo upload de arquivos para um bucket"
      ],
      "metadata": {
        "id": "ukAUANk-YYAN"
      }
    },
    {
      "cell_type": "code",
      "source": [
        "with open(\"arquivo_teste.txt\", \"w\") as f:\n",
        "    f.write(\"Olá, nuvem! Este é um upload via Colab.\")"
      ],
      "metadata": {
        "id": "KQA437ZNYW2z"
      },
      "execution_count": null,
      "outputs": []
    },
    {
      "cell_type": "code",
      "source": [
        "blob = bucket_2.blob(\"test/arquivo_teste.txt\")  # nome do arquivo no GCS\n",
        "blob.upload_from_filename(\"arquivo_teste.txt\") # nome do arquivo local\n",
        "\n",
        "print(\"Upload concluído com sucesso!\")"
      ],
      "metadata": {
        "colab": {
          "base_uri": "https://localhost:8080/"
        },
        "id": "kwWMz3G8YwVQ",
        "outputId": "0d7d67fe-b333-4493-a03a-a1f4cfe01372"
      },
      "execution_count": null,
      "outputs": [
        {
          "output_type": "stream",
          "name": "stdout",
          "text": [
            "Upload concluído com sucesso!\n"
          ]
        }
      ]
    },
    {
      "cell_type": "markdown",
      "source": [
        "#### Fazendo download de arquivos de um bucket"
      ],
      "metadata": {
        "id": "dqMg7zCYWObn"
      }
    },
    {
      "cell_type": "code",
      "source": [
        "import requests\n",
        "import json"
      ],
      "metadata": {
        "id": "DChResVOX3c_"
      },
      "execution_count": null,
      "outputs": []
    },
    {
      "cell_type": "code",
      "source": [
        "def extrai_quotes(pagina):\n",
        "    url = f\"https://quotes.toscrape.com/api/quotes?page={pagina}\"\n",
        "    headers = {\n",
        "        \"User-Agent\": \"Chrome/92.0.4515.159\",\n",
        "        \"Accept\": \"application/json\",\n",
        "        \"X-Requested-With\": \"XMLHttpRequest\"\n",
        "    }\n",
        "    resp = requests.get(url, headers=headers)\n",
        "    resp.raise_for_status()\n",
        "    return resp.json()\n",
        "\n",
        "dados_pagina1 = extrai_quotes(1)\n",
        "# print(json.dumps(dados_pagina1, indent=2, ensure_ascii=False))\n",
        "dados_pagina1"
      ],
      "metadata": {
        "colab": {
          "base_uri": "https://localhost:8080/"
        },
        "id": "osRc4KgAX2l6",
        "outputId": "dce76b31-b5b3-4d6a-f2dc-451b4841e807"
      },
      "execution_count": null,
      "outputs": [
        {
          "output_type": "execute_result",
          "data": {
            "text/plain": [
              "{'has_next': True,\n",
              " 'page': 1,\n",
              " 'quotes': [{'author': {'goodreads_link': '/author/show/9810.Albert_Einstein',\n",
              "    'name': 'Albert Einstein',\n",
              "    'slug': 'Albert-Einstein'},\n",
              "   'tags': ['change', 'deep-thoughts', 'thinking', 'world'],\n",
              "   'text': '“The world as we have created it is a process of our thinking. It cannot be changed without changing our thinking.”'},\n",
              "  {'author': {'goodreads_link': '/author/show/1077326.J_K_Rowling',\n",
              "    'name': 'J.K. Rowling',\n",
              "    'slug': 'J-K-Rowling'},\n",
              "   'tags': ['abilities', 'choices'],\n",
              "   'text': '“It is our choices, Harry, that show what we truly are, far more than our abilities.”'},\n",
              "  {'author': {'goodreads_link': '/author/show/9810.Albert_Einstein',\n",
              "    'name': 'Albert Einstein',\n",
              "    'slug': 'Albert-Einstein'},\n",
              "   'tags': ['inspirational', 'life', 'live', 'miracle', 'miracles'],\n",
              "   'text': '“There are only two ways to live your life. One is as though nothing is a miracle. The other is as though everything is a miracle.”'},\n",
              "  {'author': {'goodreads_link': '/author/show/1265.Jane_Austen',\n",
              "    'name': 'Jane Austen',\n",
              "    'slug': 'Jane-Austen'},\n",
              "   'tags': ['aliteracy', 'books', 'classic', 'humor'],\n",
              "   'text': '“The person, be it gentleman or lady, who has not pleasure in a good novel, must be intolerably stupid.”'},\n",
              "  {'author': {'goodreads_link': '/author/show/82952.Marilyn_Monroe',\n",
              "    'name': 'Marilyn Monroe',\n",
              "    'slug': 'Marilyn-Monroe'},\n",
              "   'tags': ['be-yourself', 'inspirational'],\n",
              "   'text': \"“Imperfection is beauty, madness is genius and it's better to be absolutely ridiculous than absolutely boring.”\"},\n",
              "  {'author': {'goodreads_link': '/author/show/9810.Albert_Einstein',\n",
              "    'name': 'Albert Einstein',\n",
              "    'slug': 'Albert-Einstein'},\n",
              "   'tags': ['adulthood', 'success', 'value'],\n",
              "   'text': '“Try not to become a man of success. Rather become a man of value.”'},\n",
              "  {'author': {'goodreads_link': '/author/show/7617.Andr_Gide',\n",
              "    'name': 'André Gide',\n",
              "    'slug': 'Andre-Gide'},\n",
              "   'tags': ['life', 'love'],\n",
              "   'text': '“It is better to be hated for what you are than to be loved for what you are not.”'},\n",
              "  {'author': {'goodreads_link': '/author/show/3091287.Thomas_A_Edison',\n",
              "    'name': 'Thomas A. Edison',\n",
              "    'slug': 'Thomas-A-Edison'},\n",
              "   'tags': ['edison', 'failure', 'inspirational', 'paraphrased'],\n",
              "   'text': \"“I have not failed. I've just found 10,000 ways that won't work.”\"},\n",
              "  {'author': {'goodreads_link': '/author/show/44566.Eleanor_Roosevelt',\n",
              "    'name': 'Eleanor Roosevelt',\n",
              "    'slug': 'Eleanor-Roosevelt'},\n",
              "   'tags': ['misattributed-eleanor-roosevelt'],\n",
              "   'text': \"“A woman is like a tea bag; you never know how strong it is until it's in hot water.”\"},\n",
              "  {'author': {'goodreads_link': '/author/show/7103.Steve_Martin',\n",
              "    'name': 'Steve Martin',\n",
              "    'slug': 'Steve-Martin'},\n",
              "   'tags': ['humor', 'obvious', 'simile'],\n",
              "   'text': '“A day without sunshine is like, you know, night.”'}],\n",
              " 'tag': None,\n",
              " 'top_ten_tags': [['love', 14],\n",
              "  ['inspirational', 13],\n",
              "  ['life', 13],\n",
              "  ['humor', 12],\n",
              "  ['books', 11],\n",
              "  ['reading', 7],\n",
              "  ['friendship', 5],\n",
              "  ['friends', 4],\n",
              "  ['truth', 4],\n",
              "  ['simile', 3]]}"
            ]
          },
          "metadata": {},
          "execution_count": 13
        }
      ]
    },
    {
      "cell_type": "code",
      "source": [
        "def coleta_todas_quotes():\n",
        "    pagina = 1\n",
        "    todas_quotes = []\n",
        "    while True:\n",
        "        data = extrai_quotes(pagina)\n",
        "        todas_quotes.extend(data[\"quotes\"])\n",
        "        if not data[\"has_next\"]:\n",
        "            break\n",
        "        pagina += 1\n",
        "    return todas_quotes\n",
        "\n",
        "# Coleta completa\n",
        "citacoes = coleta_todas_quotes()\n",
        "print(f\"Total de citações coletadas: {len(citacoes)}\")"
      ],
      "metadata": {
        "colab": {
          "base_uri": "https://localhost:8080/"
        },
        "id": "Dtpxv2bHYEki",
        "outputId": "d77f1abb-be17-4f07-942c-b373edb65c7f"
      },
      "execution_count": null,
      "outputs": [
        {
          "output_type": "stream",
          "name": "stdout",
          "text": [
            "Total de citações coletadas: 100\n"
          ]
        }
      ]
    },
    {
      "cell_type": "code",
      "source": [
        "# Função para extrair uma página\n",
        "def extrai_quotes(pagina):\n",
        "    url = f\"https://quotes.toscrape.com/api/quotes?page={pagina}\"\n",
        "    headers = {\n",
        "        \"User-Agent\": \"Chrome/92.0.4515.159\",\n",
        "        \"Accept\": \"application/json\",\n",
        "        \"X-Requested-With\": \"XMLHttpRequest\"\n",
        "    }\n",
        "    resp = requests.get(url, headers=headers)\n",
        "    resp.raise_for_status()\n",
        "    return resp.json()\n",
        "\n",
        "# Função principal: salva e envia cada página\n",
        "def coleta_e_envia_por_pagina():\n",
        "    pagina = 1\n",
        "    total_quotes = 0\n",
        "\n",
        "    while True:\n",
        "        data = extrai_quotes(pagina)\n",
        "        quotes = data[\"quotes\"]\n",
        "        total_quotes += len(quotes)\n",
        "\n",
        "        # Salvar localmente\n",
        "        nome_arquivo = f\"quotes_pagina_{pagina}.json\"\n",
        "        with open(nome_arquivo, \"w\", encoding=\"utf-8\") as f:\n",
        "            for quote in quotes:\n",
        "                f.write(json.dumps(quote, ensure_ascii=False) + \"\\n\")\n",
        "\n",
        "\n",
        "        # Enviar para GCS\n",
        "        blob_path = f\"quotes/{nome_arquivo}\"\n",
        "        blob = bucket_2.blob(blob_path)\n",
        "        blob.upload_from_filename(nome_arquivo)\n",
        "        print(f\"Página {pagina} enviada com sucesso para: gs://poliusp-demo/{blob_path}\")\n",
        "\n",
        "        if not data[\"has_next\"]:\n",
        "            break\n",
        "        pagina += 1\n",
        "\n",
        "    print(f\"\\nTotal de páginas: {pagina}\")\n",
        "    print(f\"Total de citações coletadas: {total_quotes}\")\n",
        "\n",
        "# Executa\n",
        "coleta_e_envia_por_pagina()"
      ],
      "metadata": {
        "colab": {
          "base_uri": "https://localhost:8080/"
        },
        "id": "twQ-g1rSZqKM",
        "outputId": "8cefc9df-9a74-402a-a654-989cd630bb3f"
      },
      "execution_count": null,
      "outputs": [
        {
          "output_type": "stream",
          "name": "stdout",
          "text": [
            "Página 1 enviada com sucesso para: gs://poliusp-demo/quotes/quotes_pagina_1.json\n",
            "Página 2 enviada com sucesso para: gs://poliusp-demo/quotes/quotes_pagina_2.json\n",
            "Página 3 enviada com sucesso para: gs://poliusp-demo/quotes/quotes_pagina_3.json\n",
            "Página 4 enviada com sucesso para: gs://poliusp-demo/quotes/quotes_pagina_4.json\n",
            "Página 5 enviada com sucesso para: gs://poliusp-demo/quotes/quotes_pagina_5.json\n",
            "Página 6 enviada com sucesso para: gs://poliusp-demo/quotes/quotes_pagina_6.json\n",
            "Página 7 enviada com sucesso para: gs://poliusp-demo/quotes/quotes_pagina_7.json\n",
            "Página 8 enviada com sucesso para: gs://poliusp-demo/quotes/quotes_pagina_8.json\n",
            "Página 9 enviada com sucesso para: gs://poliusp-demo/quotes/quotes_pagina_9.json\n",
            "Página 10 enviada com sucesso para: gs://poliusp-demo/quotes/quotes_pagina_10.json\n",
            "\n",
            "Total de páginas: 10\n",
            "Total de citações coletadas: 100\n"
          ]
        }
      ]
    },
    {
      "cell_type": "code",
      "source": [],
      "metadata": {
        "id": "n6NGKT4wuBGU"
      },
      "execution_count": null,
      "outputs": []
    }
  ]
}